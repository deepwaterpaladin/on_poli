{
 "cells": [
  {
   "cell_type": "code",
   "execution_count": 1,
   "metadata": {},
   "outputs": [
    {
     "name": "stdout",
     "output_type": "stream",
     "text": [
      "221\n",
      "253\n",
      "84\n"
     ]
    }
   ],
   "source": [
    "from flipped_seat import Flip\n",
    "from class_onPoli import *\n",
    "on_poli = CandidateSearch()\n",
    "ys = Flip()\n",
    "ottawa = ys.ottawa_west()\n",
    "ow = ys.ow_id()\n",
    "\n",
    "print(on_poli.get_campaign_retweet_sum(ow['OLP']))\n",
    "print(on_poli.get_campaign_retweet_sum(ow['ONDP']))\n",
    "print(on_poli.get_campaign_retweet_sum(ow['PCPO']))"
   ]
  },
  {
   "cell_type": "code",
   "execution_count": 2,
   "metadata": {},
   "outputs": [
    {
     "name": "stdout",
     "output_type": "stream",
     "text": [
      "115\n",
      "86\n",
      "48\n"
     ]
    }
   ],
   "source": [
    "from flipped_seat import Flip\n",
    "from class_onPoli import *\n",
    "on_poli = CandidateSearch()\n",
    "ys = Flip()\n",
    "kingston = ys.kingston()\n",
    "k = ys.king_id()\n",
    "\n",
    "print(on_poli.get_campaign_retweet_sum(k['OLP']))\n",
    "print(on_poli.get_campaign_retweet_sum(k['ONDP']))\n",
    "print(on_poli.get_campaign_retweet_sum(k['PCPO']))"
   ]
  },
  {
   "cell_type": "code",
   "execution_count": 3,
   "metadata": {},
   "outputs": [
    {
     "name": "stdout",
     "output_type": "stream",
     "text": [
      "279\n",
      "50\n"
     ]
    }
   ],
   "source": [
    "from flipped_seat import Flip\n",
    "from class_onPoli import *\n",
    "on_poli = CandidateSearch()\n",
    "ys = Flip()\n",
    "ottawa = ys.prescott()\n",
    "g = ys.gpr_id()\n",
    "\n",
    "print(on_poli.get_campaign_retweet_sum(g['OLP']))\n",
    "print(on_poli.get_campaign_retweet_sum(g['PCPO']))"
   ]
  },
  {
   "cell_type": "code",
   "execution_count": 4,
   "metadata": {},
   "outputs": [
    {
     "name": "stdout",
     "output_type": "stream",
     "text": [
      "22\n",
      "93\n",
      "113\n"
     ]
    }
   ],
   "source": [
    "from flipped_seat import Flip\n",
    "from class_onPoli import *\n",
    "on_poli = CandidateSearch()\n",
    "ys = Flip()\n",
    "wind = ys.windsor()\n",
    "w = ys.wt_id()\n",
    "\n",
    "print(on_poli.get_campaign_retweet_sum(w['OLP']))\n",
    "print(on_poli.get_campaign_retweet_sum(w['ONDP']))\n",
    "print(on_poli.get_campaign_retweet_sum(w['PCPO']))"
   ]
  },
  {
   "cell_type": "code",
   "execution_count": 5,
   "metadata": {},
   "outputs": [
    {
     "name": "stdout",
     "output_type": "stream",
     "text": [
      "111\n",
      "65\n",
      "31\n"
     ]
    }
   ],
   "source": [
    "from flipped_seat import Flip\n",
    "from class_onPoli import *\n",
    "on_poli = CandidateSearch()\n",
    "ys = Flip()\n",
    "scar = ys.scarborough()\n",
    "w = ys.sc_id()\n",
    "\n",
    "print(on_poli.get_campaign_retweet_sum(w['OLP']))\n",
    "print(on_poli.get_campaign_retweet_sum(w['ONDP']))\n",
    "print(on_poli.get_campaign_retweet_sum(w['PCPO']))"
   ]
  },
  {
   "cell_type": "code",
   "execution_count": 6,
   "metadata": {},
   "outputs": [
    {
     "name": "stdout",
     "output_type": "stream",
     "text": [
      "86\n",
      "396\n",
      "3\n",
      "525\n"
     ]
    }
   ],
   "source": [
    "from flipped_seat import Flip\n",
    "from class_onPoli import *\n",
    "on_poli = CandidateSearch()\n",
    "ys = Flip()\n",
    "bb = ys.beaches()\n",
    "b = ys.bb_id()\n",
    "\n",
    "print(on_poli.get_campaign_retweet_sum(b['OLP']))\n",
    "print(on_poli.get_campaign_retweet_sum(b['ONDP']))\n",
    "print(on_poli.get_campaign_retweet_sum(b['PCPO']))\n",
    "print(on_poli.get_campaign_retweet_sum(b['GPO']))"
   ]
  },
  {
   "cell_type": "code",
   "execution_count": 7,
   "metadata": {},
   "outputs": [
    {
     "name": "stdout",
     "output_type": "stream",
     "text": [
      "87\n",
      "452\n",
      "53\n",
      "240\n"
     ]
    }
   ],
   "source": [
    "from flipped_seat import Flip\n",
    "from class_onPoli import *\n",
    "on_poli = CandidateSearch()\n",
    "ys = Flip()\n",
    "bb = ys.toronto_centre()\n",
    "b = ys.tc_id()\n",
    "\n",
    "print(on_poli.get_campaign_retweet_sum(b['OLP']))\n",
    "print(on_poli.get_campaign_retweet_sum(b['ONDP']))\n",
    "print(on_poli.get_campaign_retweet_sum(b['PCPO']))\n",
    "print(on_poli.get_campaign_retweet_sum(b['GPO']))"
   ]
  },
  {
   "cell_type": "code",
   "execution_count": 9,
   "metadata": {},
   "outputs": [
    {
     "name": "stdout",
     "output_type": "stream",
     "text": [
      "98\n",
      "18\n"
     ]
    }
   ],
   "source": [
    "from flipped_seat import Flip\n",
    "from class_onPoli import *\n",
    "on_poli = CandidateSearch()\n",
    "ys = Flip()\n",
    "\n",
    "thunda = ys.thunder_bay()\n",
    "bay = ys.tb_id()\n",
    "\n",
    "print(on_poli.get_campaign_retweet_sum(bay['ONDP']))\n",
    "print(on_poli.get_campaign_retweet_sum(bay['PCPO']))"
   ]
  },
  {
   "cell_type": "code",
   "execution_count": 11,
   "metadata": {},
   "outputs": [
    {
     "name": "stdout",
     "output_type": "stream",
     "text": [
      "71\n",
      "141\n",
      "3\n"
     ]
    }
   ],
   "source": [
    "from flipped_seat import Flip\n",
    "from class_onPoli import *\n",
    "on_poli = CandidateSearch()\n",
    "ys = Flip()\n",
    "w = ys.ys_id()\n",
    "\n",
    "print(on_poli.get_campaign_retweet_sum(w['OLP']))\n",
    "print(on_poli.get_campaign_retweet_sum(w['ONDP']))\n",
    "print(on_poli.get_campaign_retweet_sum(w['PCPO']))"
   ]
  },
  {
   "cell_type": "code",
   "execution_count": 12,
   "metadata": {},
   "outputs": [
    {
     "name": "stdout",
     "output_type": "stream",
     "text": [
      "5\n",
      "78\n",
      "19\n"
     ]
    }
   ],
   "source": [
    "from class_onPoli import *\n",
    "\n",
    "on_poli = CandidateSearch()\n",
    "\n",
    "aj = on_poli.a_id()\n",
    "\n",
    "print(on_poli.get_campaign_retweet_sum(aj['PCPO']))\n",
    "print(on_poli.get_campaign_retweet_sum(aj['OLP']))\n",
    "print(on_poli.get_campaign_retweet_sum(aj['ONDP']))"
   ]
  },
  {
   "cell_type": "code",
   "execution_count": 13,
   "metadata": {},
   "outputs": [
    {
     "name": "stdout",
     "output_type": "stream",
     "text": [
      "52\n",
      "62\n",
      "39\n"
     ]
    }
   ],
   "source": [
    "from class_onPoli import *\n",
    "\n",
    "on_poli = CandidateSearch()\n",
    "\n",
    "aj = on_poli.he_id()\n",
    "\n",
    "print(on_poli.get_campaign_retweet_sum(aj['PCPO']))\n",
    "print(on_poli.get_campaign_retweet_sum(aj['OLP']))\n",
    "print(on_poli.get_campaign_retweet_sum(aj['ONDP']))"
   ]
  },
  {
   "cell_type": "code",
   "execution_count": 14,
   "metadata": {},
   "outputs": [
    {
     "name": "stdout",
     "output_type": "stream",
     "text": [
      "27\n",
      "248\n",
      "18\n"
     ]
    }
   ],
   "source": [
    "from class_onPoli import *\n",
    "\n",
    "on_poli = CandidateSearch()\n",
    "\n",
    "aj = on_poli.ps_id()\n",
    "\n",
    "print(on_poli.get_campaign_retweet_sum(aj['PCPO']))\n",
    "print(on_poli.get_campaign_retweet_sum(aj['GPO']))\n",
    "print(on_poli.get_campaign_retweet_sum(aj['ONDP']))"
   ]
  },
  {
   "cell_type": "code",
   "execution_count": 10,
   "metadata": {},
   "outputs": [
    {
     "name": "stdout",
     "output_type": "stream",
     "text": [
      "30\n",
      "54\n",
      "30\n",
      "72\n",
      "107\n",
      "25\n"
     ]
    }
   ],
   "source": [
    "from class_onPoli import *\n",
    "\n",
    "on_poli = CandidateSearch()\n",
    "\n",
    "bc = on_poli.bc_id()\n",
    "bw = on_poli.bw_id()\n",
    "\n",
    "print(on_poli.get_campaign_retweet_sum(bc['OLP']))\n",
    "print(on_poli.get_campaign_retweet_sum(bc['ONDP']))\n",
    "print(on_poli.get_campaign_retweet_sum(bc['PCPO']))\n",
    "print(on_poli.get_campaign_retweet_sum(bw['OLP']))\n",
    "print(on_poli.get_campaign_retweet_sum(bw['ONDP']))\n",
    "print(on_poli.get_campaign_retweet_sum(bw['PCPO']))"
   ]
  }
 ],
 "metadata": {
  "interpreter": {
   "hash": "aee8b7b246df8f9039afb4144a1f6fd8d2ca17a180786b69acc140d282b71a49"
  },
  "kernelspec": {
   "display_name": "Python 3.9.7 64-bit",
   "language": "python",
   "name": "python3"
  },
  "language_info": {
   "codemirror_mode": {
    "name": "ipython",
    "version": 3
   },
   "file_extension": ".py",
   "mimetype": "text/x-python",
   "name": "python",
   "nbconvert_exporter": "python",
   "pygments_lexer": "ipython3",
   "version": "3.9.7"
  },
  "orig_nbformat": 4
 },
 "nbformat": 4,
 "nbformat_minor": 2
}
