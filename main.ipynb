{
 "cells": [
  {
   "cell_type": "code",
   "execution_count": 11,
   "metadata": {},
   "outputs": [
    {
     "name": "stdout",
     "output_type": "stream",
     "text": [
      "974\n"
     ]
    }
   ],
   "source": [
    "from class_onPoli import *\n",
    "\n",
    "on_poli = CandidateSearch()\n",
    "\n",
    "b = on_poli.b_id()\n",
    "\n",
    "print(on_poli.get_campaign_tweet_sum(b['GPO']))"
   ]
  },
  {
   "cell_type": "code",
   "execution_count": 24,
   "metadata": {},
   "outputs": [
    {
     "name": "stdout",
     "output_type": "stream",
     "text": [
      "29\n",
      "41\n",
      "22\n",
      "37\n",
      "42\n",
      "12\n"
     ]
    }
   ],
   "source": [
    "from class_onPoli import *\n",
    "\n",
    "on_poli = CandidateSearch()\n",
    "\n",
    "bc = on_poli.bc_id()\n",
    "bw = on_poli.bw_id()\n",
    "\n",
    "print(on_poli.get_campaign_tweet_sum(bc['OLP']))\n",
    "print(on_poli.get_campaign_tweet_sum(bc['ONDP']))\n",
    "print(on_poli.get_campaign_tweet_sum(bc['PCPO']))\n",
    "print(on_poli.get_campaign_tweet_sum(bw['OLP']))\n",
    "print(on_poli.get_campaign_tweet_sum(bw['ONDP']))\n",
    "print(on_poli.get_campaign_tweet_sum(bw['PCPO']))"
   ]
  },
  {
   "cell_type": "code",
   "execution_count": 1,
   "metadata": {},
   "outputs": [
    {
     "name": "stdout",
     "output_type": "stream",
     "text": [
      "71\n"
     ]
    }
   ],
   "source": [
    "from flipped_seat import Flip\n",
    "from class_onPoli import *\n",
    "on_poli = CandidateSearch()\n",
    "ys = Flip()\n",
    "bb = ys.beaches()\n",
    "b = ys.bb_id()\n",
    "#print(on_poli.get_candidates(bb))\n",
    "#print(on_poli.get_campaign_tweet_sum(b['OLP']))\n",
    "#print(on_poli.get_campaign_tweet_sum(b['ONDP']))\n",
    "#print(on_poli.get_campaign_tweet_sum(b['PCPO']))\n",
    "print(on_poli.get_campaign_tweet_sum(b['GPO']))"
   ]
  },
  {
   "cell_type": "code",
   "execution_count": 1,
   "metadata": {},
   "outputs": [
    {
     "name": "stdout",
     "output_type": "stream",
     "text": [
      "62\n",
      "249\n",
      "36\n",
      "32\n"
     ]
    }
   ],
   "source": [
    "from flipped_seat import Flip\n",
    "from class_onPoli import *\n",
    "on_poli = CandidateSearch()\n",
    "ys = Flip()\n",
    "bb = ys.toronto_centre()\n",
    "b = ys.tc_id()\n",
    "#print(on_poli.get_candidates(bb))\n",
    "print(on_poli.get_campaign_tweet_sum(b['OLP']))\n",
    "print(on_poli.get_campaign_tweet_sum(b['ONDP']))\n",
    "print(on_poli.get_campaign_tweet_sum(b['PCPO']))\n",
    "print(on_poli.get_campaign_tweet_sum(b['GPO']))"
   ]
  },
  {
   "cell_type": "code",
   "execution_count": 1,
   "metadata": {},
   "outputs": [
    {
     "name": "stdout",
     "output_type": "stream",
     "text": [
      "79\n",
      "14\n"
     ]
    }
   ],
   "source": [
    "from flipped_seat import Flip\n",
    "from class_onPoli import *\n",
    "on_poli = CandidateSearch()\n",
    "ys = Flip()\n",
    "\n",
    "thunda = ys.thunder_bay()\n",
    "bay = ys.tb_id()\n",
    "\n",
    "#print(on_poli.get_candidates(thunda))\n",
    "print(on_poli.get_campaign_tweet_sum(bay['ONDP']))\n",
    "print(on_poli.get_campaign_tweet_sum(bay['PCPO']))"
   ]
  },
  {
   "cell_type": "code",
   "execution_count": 1,
   "metadata": {},
   "outputs": [
    {
     "name": "stdout",
     "output_type": "stream",
     "text": [
      "90\n",
      "72\n",
      "42\n"
     ]
    }
   ],
   "source": [
    "from flipped_seat import Flip\n",
    "from class_onPoli import *\n",
    "on_poli = CandidateSearch()\n",
    "ys = Flip()\n",
    "kingston = ys.kingston()\n",
    "k = ys.king_id()\n",
    "#print(on_poli.get_candidates(kingston))\n",
    "print(on_poli.get_campaign_tweet_sum(k['OLP']))\n",
    "print(on_poli.get_campaign_tweet_sum(k['ONDP']))\n",
    "print(on_poli.get_campaign_tweet_sum(k['PCPO']))"
   ]
  },
  {
   "cell_type": "code",
   "execution_count": 2,
   "metadata": {},
   "outputs": [
    {
     "name": "stdout",
     "output_type": "stream",
     "text": [
      "174\n",
      "143\n",
      "16\n"
     ]
    }
   ],
   "source": [
    "from flipped_seat import Flip\n",
    "from class_onPoli import *\n",
    "on_poli = CandidateSearch()\n",
    "ys = Flip()\n",
    "ottawa = ys.ottawa_west()\n",
    "ow = ys.ow_id()\n",
    "#print(on_poli.get_candidates(ottawa))\n",
    "print(on_poli.get_campaign_tweet_sum(ow['OLP']))\n",
    "print(on_poli.get_campaign_tweet_sum(ow['ONDP']))\n",
    "print(on_poli.get_campaign_tweet_sum(ow['PCPO']))"
   ]
  },
  {
   "cell_type": "code",
   "execution_count": 1,
   "metadata": {},
   "outputs": [
    {
     "name": "stdout",
     "output_type": "stream",
     "text": [
      "10\n",
      "30\n"
     ]
    }
   ],
   "source": [
    "from flipped_seat import Flip\n",
    "from class_onPoli import *\n",
    "on_poli = CandidateSearch()\n",
    "ys = Flip()\n",
    "ottawa = ys.prescott()\n",
    "g = ys.gpr_id()\n",
    "#print(on_poli.get_candidates(ottawa))\n",
    "\n",
    "print(on_poli.get_campaign_tweet_sum(g['OLP']))\n",
    "print(on_poli.get_campaign_tweet_sum(g['PCPO']))"
   ]
  },
  {
   "cell_type": "code",
   "execution_count": 1,
   "metadata": {},
   "outputs": [
    {
     "name": "stdout",
     "output_type": "stream",
     "text": [
      "7\n",
      "72\n",
      "15\n"
     ]
    }
   ],
   "source": [
    "from flipped_seat import Flip\n",
    "from class_onPoli import *\n",
    "on_poli = CandidateSearch()\n",
    "ys = Flip()\n",
    "wind = ys.windsor()\n",
    "w = ys.wt_id()\n",
    "#print(on_poli.get_candidates(wind))\n",
    "print(on_poli.get_campaign_tweet_sum(w['OLP']))\n",
    "print(on_poli.get_campaign_tweet_sum(w['ONDP']))\n",
    "print(on_poli.get_campaign_tweet_sum(w['PCPO']))"
   ]
  },
  {
   "cell_type": "code",
   "execution_count": 1,
   "metadata": {},
   "outputs": [
    {
     "name": "stdout",
     "output_type": "stream",
     "text": [
      "93\n",
      "39\n",
      "24\n"
     ]
    }
   ],
   "source": [
    "from flipped_seat import Flip\n",
    "from class_onPoli import *\n",
    "on_poli = CandidateSearch()\n",
    "ys = Flip()\n",
    "scar = ys.scarborough()\n",
    "w = ys.sc_id()\n",
    "#print(on_poli.get_candidates(scar))\n",
    "print(on_poli.get_campaign_tweet_sum(w['OLP']))\n",
    "print(on_poli.get_campaign_tweet_sum(w['ONDP']))\n",
    "print(on_poli.get_campaign_tweet_sum(w['PCPO']))"
   ]
  },
  {
   "cell_type": "code",
   "execution_count": 22,
   "metadata": {},
   "outputs": [
    {
     "name": "stdout",
     "output_type": "stream",
     "text": [
      "90\n",
      "25\n"
     ]
    }
   ],
   "source": [
    "from class_onPoli import *\n",
    "\n",
    "on_poli = CandidateSearch()\n",
    "\n",
    "e = on_poli.el_id()\n",
    "\n",
    "print(on_poli.get_campaign_tweet_sum(e['OLP']))\n",
    "print(on_poli.get_campaign_tweet_sum(e['ONDP']))\n",
    "#print(on_poli.get_campaign_tweet_sum(e['PCPO']))"
   ]
  },
  {
   "cell_type": "code",
   "execution_count": 13,
   "metadata": {},
   "outputs": [
    {
     "name": "stdout",
     "output_type": "stream",
     "text": [
      "113\n"
     ]
    }
   ],
   "source": [
    "from flipped_seat import Flip\n",
    "from class_onPoli import *\n",
    "on_poli = CandidateSearch()\n",
    "ys = Flip()\n",
    "x = ys.ys_id()\n",
    "#print(on_poli.get_campaign_tweet_sum(x['ONDP']))\n",
    "#print(on_poli.get_campaign_tweet_sum(x['OLP']))\n",
    "print(on_poli.get_campaign_tweet_sum(x['PCPO']))"
   ]
  },
  {
   "cell_type": "code",
   "execution_count": 2,
   "metadata": {},
   "outputs": [
    {
     "name": "stdout",
     "output_type": "stream",
     "text": [
      "1\n"
     ]
    }
   ],
   "source": [
    "from flipped_seat import Flip\n",
    "from class_onPoli import *\n",
    "on_poli = CandidateSearch()\n",
    "ys = Flip()\n",
    "x = ys.ys_id()\n",
    "\n",
    "print(on_poli.get_campaign_tweet_sum(x['PCPO']))"
   ]
  },
  {
   "cell_type": "code",
   "execution_count": 10,
   "metadata": {},
   "outputs": [
    {
     "name": "stdout",
     "output_type": "stream",
     "text": [
      "13\n"
     ]
    }
   ],
   "source": [
    "from class_onPoli import *\n",
    "\n",
    "on_poli = CandidateSearch()\n",
    "\n",
    "aj = on_poli.a_id()\n",
    "\n",
    "#print(on_poli.get_campaign_tweet_sum(aj['PCPO']))\n",
    "#print(on_poli.get_campaign_tweet_sum(aj['OLP']))\n",
    "print(on_poli.get_campaign_tweet_sum(aj['ONDP']))"
   ]
  },
  {
   "cell_type": "code",
   "execution_count": null,
   "metadata": {},
   "outputs": [],
   "source": [
    "from class_onPoli import *\n",
    "\n",
    "on_poli = CandidateSearch()\n",
    "\n",
    "bc = on_poli.bw_id()\n",
    "\n",
    "print(on_poli.get_original_tweets(bc['ONDP']))"
   ]
  },
  {
   "cell_type": "code",
   "execution_count": 23,
   "metadata": {},
   "outputs": [
    {
     "name": "stdout",
     "output_type": "stream",
     "text": [
      "21\n"
     ]
    }
   ],
   "source": [
    "from class_onPoli import *\n",
    "\n",
    "on_poli = CandidateSearch()\n",
    "\n",
    "vw = on_poli.vw_id()\n",
    "\n",
    "#print(on_poli.get_campaign_tweet_sum(vw['OLP']))\n",
    "print(on_poli.get_campaign_tweet_sum(vw['PCPO']))"
   ]
  },
  {
   "cell_type": "code",
   "execution_count": 16,
   "metadata": {},
   "outputs": [
    {
     "name": "stdout",
     "output_type": "stream",
     "text": [
      "21\n"
     ]
    }
   ],
   "source": [
    "#Remaining \n",
    "from class_onPoli import *\n",
    "on_poli = CandidateSearch()\n",
    "bur = on_poli.b_id()\n",
    "vw = on_poli.vw_id()\n",
    "ps = on_poli.ps_id()\n",
    "\n",
    "print(on_poli.get_campaign_tweet_sum(vw['PCPO']))\n",
    "#print(on_poli.get_campaign_tweet_sum(bur['GPO']))\n",
    "#print(on_poli.get_campaign_tweet_sum(ps['ONDP']))"
   ]
  },
  {
   "cell_type": "code",
   "execution_count": 6,
   "metadata": {},
   "outputs": [
    {
     "data": {
      "text/plain": [
       "974"
      ]
     },
     "execution_count": 6,
     "metadata": {},
     "output_type": "execute_result"
    }
   ],
   "source": [
    "from class_onPoli import *\n",
    "\n",
    "on_poli = CandidateSearch()\n",
    "bur = on_poli.b_id()\n",
    "on_poli.get_campaign_tweet_sum(bur['GPO'])"
   ]
  }
 ],
 "metadata": {
  "interpreter": {
   "hash": "aee8b7b246df8f9039afb4144a1f6fd8d2ca17a180786b69acc140d282b71a49"
  },
  "kernelspec": {
   "display_name": "Python 3.9.7 64-bit",
   "language": "python",
   "name": "python3"
  },
  "language_info": {
   "codemirror_mode": {
    "name": "ipython",
    "version": 3
   },
   "file_extension": ".py",
   "mimetype": "text/x-python",
   "name": "python",
   "nbconvert_exporter": "python",
   "pygments_lexer": "ipython3",
   "version": "3.9.7"
  },
  "orig_nbformat": 4
 },
 "nbformat": 4,
 "nbformat_minor": 2
}
